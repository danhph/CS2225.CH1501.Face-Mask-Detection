{
  "nbformat": 4,
  "nbformat_minor": 0,
  "metadata": {
    "colab": {
      "name": "ImageAIDemo.ipynb",
      "provenance": [],
      "collapsed_sections": []
    },
    "kernelspec": {
      "name": "python3",
      "display_name": "Python 3"
    }
  },
  "cells": [
    {
      "cell_type": "code",
      "metadata": {
        "id": "iw10AfvH8SqB"
      },
      "source": [
        "# uninstall library\n",
        "!pip3 uninstall keras\n",
        "!pip3 uninstall imageai\n",
        "!pip3 uninstall tensorflow\n",
        "!pip3 uninstall numpy"
      ],
      "execution_count": null,
      "outputs": []
    },
    {
      "cell_type": "code",
      "metadata": {
        "id": "DsburdLl9qx_"
      },
      "source": [
        "# install library for imageai\n",
        "!pip3 install tensorflow==1.13.1\n",
        "!pip3 install opencv-python\n",
        "!pip3 install keras==2.2.4\n",
        "!pip3 install numpy==1.16.1\n",
        "!pip3 install imageai --upgrade"
      ],
      "execution_count": null,
      "outputs": []
    },
    {
      "cell_type": "code",
      "metadata": {
        "id": "5rxhw_De9yzK"
      },
      "source": [
        "# Download model \n",
        "!wget \"https://github.com/OlafenwaMoses/ImageAI/releases/download/1.0/resnet50_coco_best_v2.0.1.h5\" -P \"/tmp\"\n",
        "!wget \"https://github.com/OlafenwaMoses/ImageAI/releases/download/1.0/yolo.h5\" -P \"/tmp\"\n",
        "!wget \"https://github.com/OlafenwaMoses/ImageAI/releases/download/1.0/yolo-tiny.h5\" -P \"/tmp\""
      ],
      "execution_count": null,
      "outputs": []
    },
    {
      "cell_type": "code",
      "metadata": {
        "id": "0NrbMQl393Yj"
      },
      "source": [
        "# Demo 1\n",
        "from imageai.Detection import ObjectDetection\n",
        "import os\n",
        "\n",
        "execution_path = os.getcwd()\n",
        "\n",
        "detector = ObjectDetection()\n",
        "detector.setModelTypeAsYOLOv3()\n",
        "detector.setModelPath( os.path.join(execution_path , \"/tmp/yolo.h5\"))\n",
        "detector.loadModel()"
      ],
      "execution_count": null,
      "outputs": []
    },
    {
      "cell_type": "code",
      "metadata": {
        "id": "x52fTmdZ984J"
      },
      "source": [
        "# Add image to folder /tmp/\n",
        "detections = detector.detectObjectsFromImage(input_image=os.path.join(execution_path , \"/tmp/ImageColab.jpg\"), output_image_path=os.path.join(execution_path , \"/tmp/ImageColabNew.jpg\"), minimum_percentage_probability=30)\n",
        "\n",
        "for eachObject in detections:\n",
        "    print(eachObject[\"name\"] , \" : \", eachObject[\"percentage_probability\"], \" : \", eachObject[\"box_points\"] )\n",
        "    print(\"--------------------------------\")"
      ],
      "execution_count": null,
      "outputs": []
    },
    {
      "cell_type": "code",
      "metadata": {
        "id": "3utQhPwo-DD7"
      },
      "source": [
        "# Show result\n",
        "from IPython.display import Image\n",
        "Image('/tmp/ImageColabNew.jpg')"
      ],
      "execution_count": null,
      "outputs": []
    }
  ]
}